{
 "cells": [
  {
   "cell_type": "code",
   "execution_count": 1,
   "id": "483a2e18-3b1a-4451-bf9c-f33b0d97e69f",
   "metadata": {},
   "outputs": [],
   "source": [
    "import torch\n",
    "from torch import nn\n",
    "from torch.nn import functional as F\n",
    "import argparse\n",
    "import onnxruntime as rt\n",
    "import numpy as np\n",
    "from inference_trt import init_decoder_inputs"
   ]
  },
  {
   "cell_type": "code",
   "execution_count": 2,
   "id": "8760a5bb-4608-4188-ac40-c53b714606a6",
   "metadata": {},
   "outputs": [],
   "source": [
    "import models\n",
    "from inference import checkpoint_from_distributed, unwrap_distributed, load_and_setup_model, prepare_input_sequence\n",
    "from tacotron2_common.utils import to_gpu, get_mask_from_lengths"
   ]
  },
  {
   "cell_type": "code",
   "execution_count": null,
   "id": "83e324aa-9b2f-465f-b2ea-73478fc65635",
   "metadata": {},
   "outputs": [
    {
     "name": "stderr",
     "output_type": "stream",
     "text": [
      "2022-04-06 01:08:02.800146952 [W:onnxruntime:, graph.cc:119 MergeShapeInfo] Error merging shape info for output. 'memory' source:{1,,512} target:{0,mem_seq,Transposememory_dim_2}. Falling back to lenient merge.\n",
      "2022-04-06 01:08:02.809808901 [W:onnxruntime:, graph.cc:119 MergeShapeInfo] Error merging shape info for output. 'processed_memory' source:{1,,128} target:{0,mem_seq,128}. Falling back to lenient merge.\n"
     ]
    }
   ],
   "source": [
    "encoder = rt.InferenceSession('model_onnx/encoder.onnx')\n",
    "decoder = rt.InferenceSession('model_onnx/decoder_iter.onnx')\n",
    "postnet = rt.InferenceSession('model_onnx/postnet_2.onnx')\n",
    "waveglow = rt.InferenceSession('model_onnx/waveglow.onnx')"
   ]
  },
  {
   "cell_type": "code",
   "execution_count": 4,
   "id": "9a5353cc-e373-4f60-83ce-7c79943745b2",
   "metadata": {},
   "outputs": [],
   "source": [
    "# utils = torch.hub.load('NVIDIA/DeepLearningExamples:torchhub', 'nvidia_tts_utils')"
   ]
  },
  {
   "cell_type": "code",
   "execution_count": 7,
   "id": "436de00a-deed-41bb-a402-56923cda9c32",
   "metadata": {},
   "outputs": [
    {
     "ename": "NameError",
     "evalue": "name 'postnet' is not defined",
     "output_type": "error",
     "traceback": [
      "\u001b[0;31m---------------------------------------------------------------------------\u001b[0m",
      "\u001b[0;31mNameError\u001b[0m                                 Traceback (most recent call last)",
      "Input \u001b[0;32mIn [7]\u001b[0m, in \u001b[0;36m<cell line: 4>\u001b[0;34m()\u001b[0m\n\u001b[1;32m      1\u001b[0m \u001b[38;5;66;03m# print(encoder.get_inputs()[0].name)\u001b[39;00m\n\u001b[1;32m      2\u001b[0m \u001b[38;5;66;03m# print(encoder.get_inputs()[1].name)\u001b[39;00m\n\u001b[1;32m      3\u001b[0m \u001b[38;5;66;03m# print(encoder.get_outputs())\u001b[39;00m\n\u001b[0;32m----> 4\u001b[0m \u001b[38;5;28;01mfor\u001b[39;00m out \u001b[38;5;129;01min\u001b[39;00m \u001b[43mpostnet\u001b[49m\u001b[38;5;241m.\u001b[39mget_outputs():\n\u001b[1;32m      5\u001b[0m     \u001b[38;5;28mprint\u001b[39m(\u001b[38;5;124m\"\u001b[39m\u001b[38;5;124mthis is the name of out put \u001b[39m\u001b[38;5;124m\"\u001b[39m \u001b[38;5;241m+\u001b[39m out\u001b[38;5;241m.\u001b[39mname)\n",
      "\u001b[0;31mNameError\u001b[0m: name 'postnet' is not defined"
     ]
    }
   ],
   "source": [
    "# print(encoder.get_inputs()[0].name)\n",
    "# print(encoder.get_inputs()[1].name)\n",
    "# print(encoder.get_outputs())\n",
    "for out in postnet.get_outputs():\n",
    "    print(\"this is the name of out put \" + out.name)"
   ]
  },
  {
   "cell_type": "code",
   "execution_count": 12,
   "id": "9cabfa0e-06b7-4bbe-b31f-538febb9c477",
   "metadata": {},
   "outputs": [
    {
     "name": "stdout",
     "output_type": "stream",
     "text": [
      "this is the name of in put mel_outputs\n"
     ]
    }
   ],
   "source": [
    "# decoder_input = {}\n",
    "for input in postnet.get_inputs():\n",
    "    print(\"this is the name of in put \" + input.name)\n",
    "    "
   ]
  },
  {
   "cell_type": "code",
   "execution_count": 13,
   "id": "f3cbf2b5-b6c8-4142-9541-a6f078eeba28",
   "metadata": {},
   "outputs": [
    {
     "data": {
      "text/plain": [
       "'mel_outputs'"
      ]
     },
     "execution_count": 13,
     "metadata": {},
     "output_type": "execute_result"
    }
   ],
   "source": [
    "postnet.get_inputs()[0].name"
   ]
  },
  {
   "cell_type": "code",
   "execution_count": 14,
   "id": "17158373-024d-46de-ac6f-2c3da4cb0f02",
   "metadata": {},
   "outputs": [
    {
     "data": {
      "text/plain": [
       "'mel'"
      ]
     },
     "execution_count": 14,
     "metadata": {},
     "output_type": "execute_result"
    }
   ],
   "source": [
    "waveglow.get_inputs()[0].name"
   ]
  },
  {
   "cell_type": "code",
   "execution_count": 8,
   "id": "740cde44-7044-49ce-bb67-27e3a4f1422d",
   "metadata": {},
   "outputs": [],
   "source": [
    "text = \"Hello world, I missed you so much.\""
   ]
  },
  {
   "cell_type": "code",
   "execution_count": 9,
   "id": "a6b7865d-b742-4f86-be5e-847ad4777b27",
   "metadata": {},
   "outputs": [],
   "source": [
    "## Encoder \n",
    "input_length = [50]\n",
    "sequences, lengths = prepare_input_sequence([text],cpu_run = True)\n",
    "sequences =  np.int64(sequences)\n",
    "while len(sequences) < input_length[0]:\n",
    "    sequences = np.append(sequences,0)\n",
    "sequences = np.expand_dims(sequences,0)\n",
    "memory, processed_memory, lens = encoder.run([\"memory\",\"processed_memory\",\"lens\"],{\"sequences\":sequences,\"sequence_lengths\":input_length})\n",
    "memory, processed_memory, lens = torch.tensor(memory),torch.tensor(processed_memory),torch.tensor(lens)"
   ]
  },
  {
   "cell_type": "code",
   "execution_count": 11,
   "id": "f3238e1e-8a52-48a9-8883-4777005c2a0e",
   "metadata": {},
   "outputs": [],
   "source": [
    "## Decoder_iter\n",
    "mel_lengths = np.zeros([memory.size(0)], dtype=np.int32)\n",
    "not_finished = np.ones([memory.size(0)], dtype=np.int32)\n",
    "mel_outputs, gate_outputs, alignments = (np.zeros(1), np.zeros(1), np.zeros(1))\n",
    "\n",
    "\n",
    "(decoder_input, attention_hidden, attention_cell, decoder_hidden,\n",
    "     decoder_cell, attention_weights, attention_weights_cum,\n",
    "     attention_context, memory, processed_memory,\n",
    "     mask) = init_decoder_inputs(memory, processed_memory, torch.tensor(input_length))\n",
    "\n",
    "(decoder_input, attention_hidden, attention_cell, decoder_hidden,decoder_cell, attention_weights, attention_weights_cum,attention_context, memory, processed_memory,mask)  = decoder_input.numpy(), attention_hidden.numpy(), attention_cell.numpy(), decoder_hidden.numpy(),decoder_cell.numpy(), attention_weights.numpy(), attention_weights_cum.numpy(),attention_context.numpy(),memory.numpy(), processed_memory.numpy(),mask.numpy()\n",
    "\n",
    "# decoder_output_name = [\"decoder_output\", \"gate_prediction\",\"out_attention_hidden\", \"out_attention_cell\",\"out_decoder_hidden\", \"out_decoder_cell\",\"out_attention_weights\", \"out_attention_weights_cum\",\"out_attention_context\"]\n",
    "# decoder_input_element = {\"decoder_input\":decoder_input, \"attention_hidden\": attention_hidden, \"attention_cell\":attention_cell, \"decoder_hidden\":decoder_hidden ,\"decoder_cell\":decoder_cell, \"attention_weights\":attention_weights, \"attention_weights_cum\":attention_weights_cum,\"attention_context\":attention_context, \"memory\":memory, \"processed_memory\":processed_memory,\"mask\":mask}\n",
    "\n",
    "# (mel_output, gate_output,\n",
    "#              attention_hidden, attention_cell,\n",
    "#              decoder_hidden, decoder_cell,\n",
    "#              attention_weights, attention_weights_cum,\n",
    "#              attention_context) = decoder.run(decoder_output_name , decoder_input_element)\n",
    "\n",
    "# mel_outputs = np.expand_dims(mel_output, 2)\n",
    "# gate_outputs = np.expand_dims(gate_output, 2)\n",
    "# alignments = np.expand_dims(attention_weights, 2)"
   ]
  },
  {
   "cell_type": "code",
   "execution_count": 12,
   "id": "5c76c2ec-36cf-4797-b65a-939b6f9552f3",
   "metadata": {},
   "outputs": [
    {
     "name": "stdout",
     "output_type": "stream",
     "text": [
      "Stopping after  15280  decoder steps\n"
     ]
    }
   ],
   "source": [
    "gate_threshold = 0.6\n",
    "max_decoder_steps = 1000\n",
    "first_iter = True\n",
    "\n",
    "while True:\n",
    "    decoder_output_name = [\"decoder_output\", \"gate_prediction\",\"out_attention_hidden\", \"out_attention_cell\",\"out_decoder_hidden\", \"out_decoder_cell\",\"out_attention_weights\", \"out_attention_weights_cum\",\"out_attention_context\"]\n",
    "    decoder_input_element = {\"decoder_input\":decoder_input, \"attention_hidden\": attention_hidden, \"attention_cell\":attention_cell, \"decoder_hidden\":decoder_hidden ,\"decoder_cell\":decoder_cell, \"attention_weights\":attention_weights, \"attention_weights_cum\":attention_weights_cum,\"attention_context\":attention_context, \"memory\":memory, \"processed_memory\":processed_memory,\"mask\":mask}\n",
    "\n",
    "    (mel_output, gate_output,\n",
    "                 attention_hidden, attention_cell,\n",
    "                 decoder_hidden, decoder_cell,\n",
    "                 attention_weights, attention_weights_cum,\n",
    "                 attention_context) = decoder.run(decoder_output_name , decoder_input_element)\n",
    "\n",
    "    if first_iter:\n",
    "        mel_outputs = np.expand_dims(mel_output, 2)\n",
    "        gate_outputs = np.expand_dims(gate_output, 2)\n",
    "        alignments = np.expand_dims(attention_weights, 2)\n",
    "        first_iter = False\n",
    "    else:\n",
    "        mel_outputs = np.concatenate((mel_outputs, np.expand_dims(mel_output, 2)), 2)\n",
    "        gate_outputs = np.concatenate((gate_outputs, np.expand_dims(gate_output, 2)), 2)\n",
    "        alignments =np.concatenate((alignments, np.expand_dims(attention_weights, 2)), 2)\n",
    "        \n",
    "    dec = torch.le(torch.sigmoid(torch.Tensor(gate_output)), gate_threshold).to(torch.int32).squeeze(1)\n",
    "    not_finished = not_finished*dec.numpy()\n",
    "    mel_lengths += not_finished\n",
    "    \n",
    "    if np.sum(not_finished) == 0:\n",
    "            print(\"Stopping after \",mel_outputs.size,\" decoder steps\")\n",
    "            break\n",
    "    if mel_outputs.size == max_decoder_steps:\n",
    "        print(\"Warning! Reached max decoder steps\")\n",
    "        break\n",
    "        \n",
    "    decoder_input = mel_output"
   ]
  },
  {
   "cell_type": "code",
   "execution_count": 13,
   "id": "32a6cb84-95eb-475a-87a1-81eb87624bd7",
   "metadata": {},
   "outputs": [],
   "source": [
    "#postnet\n",
    "mel_outputs_postnet = postnet.run(['mel_outputs_postnet'],{'mel_outputs':mel_outputs})"
   ]
  },
  {
   "cell_type": "code",
   "execution_count": 16,
   "id": "23b5de2f-8199-4e05-9755-1bcaf5f39773",
   "metadata": {},
   "outputs": [
    {
     "data": {
      "text/plain": [
       "array([[[-7.406, -6.97 , -6.55 , ..., -7.613, -7.42 , -7.234],\n",
       "        [-6.914, -6.492, -5.945, ..., -7.08 , -6.977, -6.832],\n",
       "        [-6.484, -5.777, -5.15 , ..., -6.79 , -6.742, -6.63 ],\n",
       "        ...,\n",
       "        [-8.16 , -7.832, -7.516, ..., -9.37 , -9.484, -9.53 ],\n",
       "        [-8.05 , -7.65 , -7.14 , ..., -9.47 , -9.53 , -9.56 ],\n",
       "        [-8.11 , -7.562, -6.766, ..., -9.57 , -9.62 , -9.62 ]]],\n",
       "      dtype=float16)"
      ]
     },
     "execution_count": 16,
     "metadata": {},
     "output_type": "execute_result"
    }
   ],
   "source": [
    "mel_outputs_postnet[0]"
   ]
  },
  {
   "cell_type": "code",
   "execution_count": null,
   "id": "a13bcbed-1db1-4730-994e-454d42b061f8",
   "metadata": {},
   "outputs": [],
   "source": [
    "# waveglow1 = torch.hub.load('NVIDIA/DeepLearningExamples:torchhub', 'nvidia_waveglow', model_math='fp16')\n",
    "# waveglow1 = waveglow.remove_weightnorm(waveglow)\n",
    "# waveglow1 = waveglow.to('cuda')\n",
    "# waveglow1.eval()"
   ]
  },
  {
   "cell_type": "code",
   "execution_count": null,
   "id": "552d8b8a-69b4-40c8-8134-66ddb4c14c89",
   "metadata": {},
   "outputs": [],
   "source": [
    "# torch.Tensor(mel_outputs_postnet[0]).to('cuda')"
   ]
  },
  {
   "cell_type": "code",
   "execution_count": null,
   "id": "d8410580-f85e-48f1-a2c8-2f317696df84",
   "metadata": {},
   "outputs": [],
   "source": [
    "# audio = waveglow.infer(torch.Tensor(mel_outputs_postnet[0]).to('cuda'))"
   ]
  },
  {
   "cell_type": "code",
   "execution_count": 17,
   "id": "123df90e-b1f4-49cd-bcba-1bd26175e944",
   "metadata": {
    "tags": []
   },
   "outputs": [
    {
     "name": "stdout",
     "output_type": "stream",
     "text": [
      "this is the name of output audio\n"
     ]
    }
   ],
   "source": [
    "for out in waveglow.get_outputs():\n",
    "    print(\"this is the name of output \" + out.name)"
   ]
  },
  {
   "cell_type": "code",
   "execution_count": 18,
   "id": "1afaf0d7-0335-4e72-ac50-d56ec2bd8251",
   "metadata": {},
   "outputs": [
    {
     "name": "stdout",
     "output_type": "stream",
     "text": [
      "this is the name of input mel\n",
      "this is the name of input z\n"
     ]
    }
   ],
   "source": [
    "for out in waveglow.get_inputs():\n",
    "    print(\"this is the name of input \" + out.name)"
   ]
  },
  {
   "cell_type": "code",
   "execution_count": 19,
   "id": "77ebc036-8195-404e-98e8-d2272b915320",
   "metadata": {},
   "outputs": [],
   "source": [
    "stride = 256 # value from waveglow upsample\n",
    "n_group = 8\n",
    "z_size2 = (mel_outputs_postnet[0].shape[2]*stride)//n_group\n",
    "z = np.random.randn(1, n_group, z_size2)"
   ]
  },
  {
   "cell_type": "code",
   "execution_count": 28,
   "id": "60d31e8d-4718-4edd-ae5b-4412d7a67344",
   "metadata": {},
   "outputs": [
    {
     "data": {
      "text/plain": [
       "11424"
      ]
     },
     "execution_count": 28,
     "metadata": {},
     "output_type": "execute_result"
    }
   ],
   "source": [
    "z_size2"
   ]
  },
  {
   "cell_type": "code",
   "execution_count": 57,
   "id": "d062c461-0467-4290-afd3-8cf67a000e47",
   "metadata": {},
   "outputs": [
    {
     "data": {
      "text/plain": [
       "array([[[ 1.1248934 , -0.07770122, -0.1793594 , ..., -0.25881702,\n",
       "          0.23056704, -1.2464995 ],\n",
       "        [-0.1231851 , -1.8648319 ,  0.4244355 , ..., -1.3905232 ,\n",
       "         -1.1601046 ,  0.94064194],\n",
       "        [-0.35573146,  0.1904765 ,  1.6952293 , ...,  0.7172618 ,\n",
       "         -0.57208127,  1.1315285 ],\n",
       "        ...,\n",
       "        [ 0.18911465,  0.13937531,  0.26385745, ..., -0.03555681,\n",
       "          0.23444729, -0.8888932 ],\n",
       "        [ 0.33053353, -0.84941024, -1.014864  , ...,  0.21998811,\n",
       "          2.0798995 , -0.6690167 ],\n",
       "        [-0.80492204,  0.59472436, -1.4697658 , ..., -0.34563527,\n",
       "         -0.5621281 ,  0.5709313 ]]], dtype=float32)"
      ]
     },
     "execution_count": 57,
     "metadata": {},
     "output_type": "execute_result"
    }
   ],
   "source": [
    "z.astype('float32')"
   ]
  },
  {
   "cell_type": "code",
   "execution_count": 22,
   "id": "f187bd6a-4c62-45bf-bdc7-97595430b86d",
   "metadata": {},
   "outputs": [
    {
     "ename": "Fail",
     "evalue": "[ONNXRuntimeError] : 1 : FAIL : Non-zero status code returned while running Conv node. Name:'Conv_1635' Status Message: CUDNN error executing cudnnConvolutionForward(s_.handle, &alpha, s_.x_tensor, s_.x_data, s_.w_desc, s_.w_data, s_.conv_desc, s_.algo, workspace.get(), s_.workspace_bytes, &beta, s_.y_tensor, s_.y_data)",
     "output_type": "error",
     "traceback": [
      "\u001b[1;31m---------------------------------------------------------------------------\u001b[0m",
      "\u001b[1;31mFail\u001b[0m                                      Traceback (most recent call last)",
      "Input \u001b[1;32mIn [22]\u001b[0m, in \u001b[0;36m<cell line: 1>\u001b[1;34m()\u001b[0m\n\u001b[1;32m----> 1\u001b[0m audio \u001b[38;5;241m=\u001b[39m \u001b[43mwaveglow\u001b[49m\u001b[38;5;241;43m.\u001b[39;49m\u001b[43mrun\u001b[49m\u001b[43m(\u001b[49m\u001b[43m[\u001b[49m\u001b[38;5;124;43m'\u001b[39;49m\u001b[38;5;124;43maudio\u001b[39;49m\u001b[38;5;124;43m'\u001b[39;49m\u001b[43m]\u001b[49m\u001b[43m,\u001b[49m\u001b[43m{\u001b[49m\u001b[38;5;124;43m'\u001b[39;49m\u001b[38;5;124;43mmel\u001b[39;49m\u001b[38;5;124;43m'\u001b[39;49m\u001b[43m:\u001b[49m\u001b[43mmel_outputs_postnet\u001b[49m\u001b[43m[\u001b[49m\u001b[38;5;241;43m0\u001b[39;49m\u001b[43m]\u001b[49m\u001b[38;5;241;43m.\u001b[39;49m\u001b[43mastype\u001b[49m\u001b[43m(\u001b[49m\u001b[38;5;124;43m'\u001b[39;49m\u001b[38;5;124;43mfloat32\u001b[39;49m\u001b[38;5;124;43m'\u001b[39;49m\u001b[43m)\u001b[49m\u001b[43m,\u001b[49m\u001b[38;5;124;43m'\u001b[39;49m\u001b[38;5;124;43mz\u001b[39;49m\u001b[38;5;124;43m'\u001b[39;49m\u001b[43m:\u001b[49m\u001b[43mz\u001b[49m\u001b[38;5;241;43m.\u001b[39;49m\u001b[43mastype\u001b[49m\u001b[43m(\u001b[49m\u001b[38;5;124;43m'\u001b[39;49m\u001b[38;5;124;43mfloat32\u001b[39;49m\u001b[38;5;124;43m'\u001b[39;49m\u001b[43m)\u001b[49m\u001b[43m}\u001b[49m\u001b[43m)\u001b[49m\n",
      "File \u001b[1;32m~\\anaconda3\\envs\\test2\\lib\\site-packages\\onnxruntime\\capi\\onnxruntime_inference_collection.py:188\u001b[0m, in \u001b[0;36mSession.run\u001b[1;34m(self, output_names, input_feed, run_options)\u001b[0m\n\u001b[0;32m    186\u001b[0m     output_names \u001b[38;5;241m=\u001b[39m [output\u001b[38;5;241m.\u001b[39mname \u001b[38;5;28;01mfor\u001b[39;00m output \u001b[38;5;129;01min\u001b[39;00m \u001b[38;5;28mself\u001b[39m\u001b[38;5;241m.\u001b[39m_outputs_meta]\n\u001b[0;32m    187\u001b[0m \u001b[38;5;28;01mtry\u001b[39;00m:\n\u001b[1;32m--> 188\u001b[0m     \u001b[38;5;28;01mreturn\u001b[39;00m \u001b[38;5;28;43mself\u001b[39;49m\u001b[38;5;241;43m.\u001b[39;49m\u001b[43m_sess\u001b[49m\u001b[38;5;241;43m.\u001b[39;49m\u001b[43mrun\u001b[49m\u001b[43m(\u001b[49m\u001b[43moutput_names\u001b[49m\u001b[43m,\u001b[49m\u001b[43m \u001b[49m\u001b[43minput_feed\u001b[49m\u001b[43m,\u001b[49m\u001b[43m \u001b[49m\u001b[43mrun_options\u001b[49m\u001b[43m)\u001b[49m\n\u001b[0;32m    189\u001b[0m \u001b[38;5;28;01mexcept\u001b[39;00m C\u001b[38;5;241m.\u001b[39mEPFail \u001b[38;5;28;01mas\u001b[39;00m err:\n\u001b[0;32m    190\u001b[0m     \u001b[38;5;28;01mif\u001b[39;00m \u001b[38;5;28mself\u001b[39m\u001b[38;5;241m.\u001b[39m_enable_fallback:\n",
      "\u001b[1;31mFail\u001b[0m: [ONNXRuntimeError] : 1 : FAIL : Non-zero status code returned while running Conv node. Name:'Conv_1635' Status Message: CUDNN error executing cudnnConvolutionForward(s_.handle, &alpha, s_.x_tensor, s_.x_data, s_.w_desc, s_.w_data, s_.conv_desc, s_.algo, workspace.get(), s_.workspace_bytes, &beta, s_.y_tensor, s_.y_data)"
     ]
    }
   ],
   "source": [
    "audio = waveglow.run(['audio'],{'mel':mel_outputs_postnet[0].astype('float32'),'z':z.astype('float32')})"
   ]
  },
  {
   "cell_type": "code",
   "execution_count": 36,
   "id": "6727fe51-9d87-4889-a28b-24656a8e34a2",
   "metadata": {},
   "outputs": [
    {
     "data": {
      "text/plain": [
       "array(11424., dtype=float32)"
      ]
     },
     "execution_count": 36,
     "metadata": {},
     "output_type": "execute_result"
    }
   ],
   "source": [
    "np.array(z_size2).astype('float32')"
   ]
  },
  {
   "cell_type": "code",
   "execution_count": 41,
   "id": "7e80a063-2b71-47b6-a65a-3f37b4c0c5d5",
   "metadata": {},
   "outputs": [
    {
     "data": {
      "text/plain": [
       "(1, 80, 357)"
      ]
     },
     "execution_count": 41,
     "metadata": {},
     "output_type": "execute_result"
    }
   ],
   "source": [
    "mel_outputs_postnet[0].shape"
   ]
  },
  {
   "cell_type": "code",
   "execution_count": 42,
   "id": "daaf9cc2-3606-487a-b394-1f27c0fb168c",
   "metadata": {},
   "outputs": [],
   "source": [
    "mel = torch.randn(1, 80, 620).cuda()"
   ]
  },
  {
   "cell_type": "code",
   "execution_count": 48,
   "id": "13c659f9-ed26-44f4-a9a1-954a9a67e519",
   "metadata": {},
   "outputs": [
    {
     "data": {
      "text/plain": [
       "tensor([[[-0.9599,  0.0870, -0.1175,  ...,  0.0625,  0.6903,  0.5833],\n",
       "         [ 1.9285,  2.8344,  1.1614,  ..., -0.6740,  1.6322, -1.0374],\n",
       "         [ 0.4578, -1.0032, -0.9797,  ..., -0.1885, -1.5935, -0.8414],\n",
       "         ...,\n",
       "         [-0.4867, -1.7212, -0.9229,  ..., -0.9055,  0.5610, -0.6816],\n",
       "         [ 0.0876, -0.5592,  0.4963,  ...,  1.1476, -0.8665, -0.5151],\n",
       "         [-1.1171, -1.2848, -1.2479,  ..., -1.1778, -0.3264,  0.2585]]],\n",
       "       device='cuda:0')"
      ]
     },
     "execution_count": 48,
     "metadata": {},
     "output_type": "execute_result"
    }
   ],
   "source": [
    "mel"
   ]
  },
  {
   "cell_type": "code",
   "execution_count": 49,
   "id": "90881924-e12a-4112-b5bf-976079aff44f",
   "metadata": {},
   "outputs": [
    {
     "data": {
      "text/plain": [
       "array([[[-0.00336026, -1.97647186, -1.49949022, ...,  0.68223006,\n",
       "         -2.01466388, -0.64972934],\n",
       "        [ 0.0941771 ,  0.04563647, -1.03623937, ...,  1.35380583,\n",
       "          0.67739   ,  0.71338536],\n",
       "        [ 0.16346079,  0.84346013, -0.28859739, ...,  1.2560419 ,\n",
       "          0.34930573,  0.44432217],\n",
       "        ...,\n",
       "        [-0.05122804, -0.76199988,  0.23117744, ...,  0.54678478,\n",
       "         -0.12461607, -0.04727315],\n",
       "        [ 0.65287573,  1.86149349,  0.70598217, ...,  1.01392168,\n",
       "         -1.78594388,  0.76104792],\n",
       "        [-0.7292311 ,  0.29504124, -0.36263551, ...,  0.38968304,\n",
       "          0.64951391, -0.26704558]]])"
      ]
     },
     "execution_count": 49,
     "metadata": {},
     "output_type": "execute_result"
    }
   ],
   "source": [
    "np.random.randn(1, n_group, z_size2)"
   ]
  },
  {
   "cell_type": "code",
   "execution_count": null,
   "id": "fcf0d8e4-9ea9-4be6-be0b-0d1ce058718b",
   "metadata": {},
   "outputs": [],
   "source": []
  }
 ],
 "metadata": {
  "kernelspec": {
   "display_name": "Python 3 (ipykernel)",
   "language": "python",
   "name": "python3"
  },
  "language_info": {
   "codemirror_mode": {
    "name": "ipython",
    "version": 3
   },
   "file_extension": ".py",
   "mimetype": "text/x-python",
   "name": "python",
   "nbconvert_exporter": "python",
   "pygments_lexer": "ipython3",
   "version": "3.8.13"
  }
 },
 "nbformat": 4,
 "nbformat_minor": 5
}
